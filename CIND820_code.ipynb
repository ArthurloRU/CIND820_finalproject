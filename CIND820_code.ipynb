{
 "cells": [
  {
   "cell_type": "code",
   "execution_count": null,
   "metadata": {},
   "outputs": [],
   "source": [
    "import json\n",
    "import pandas as pd\n",
    "df1 = pd.read_json('D:\\Ryerson\\CIND820\\Kaggle_yelp_dataset\\yelp_academic_dataset_business.json', lines=True)\n",
    "result = df1.head(10)\n",
    "print(result)"
   ]
  },
  {
   "cell_type": "code",
   "execution_count": null,
   "metadata": {},
   "outputs": [],
   "source": [
    "#170k business\n",
    "import json\n",
    "import pandas as pd\n",
    "df_business_csv = pd.read_csv('D:\\Ryerson\\CIND820\\Kaggle_yelp_dataset_CSV\\yelp_business.csv')\n",
    "df_business_csv"
   ]
  },
  {
   "cell_type": "code",
   "execution_count": null,
   "metadata": {},
   "outputs": [],
   "source": [
    "#5 mil review\n",
    "import json\n",
    "import pandas as pd\n",
    "df_review_csv = pd.read_csv('D:\\Ryerson\\CIND820\\Kaggle_yelp_dataset_CSV\\yelp_review.csv')\n",
    "df_review_csv"
   ]
  },
  {
   "cell_type": "code",
   "execution_count": null,
   "metadata": {},
   "outputs": [],
   "source": [
    "df_business_csv_tor = df_business_csv[df_business_csv[\"city\"]=='Toronto']\n",
    "df_business_csv_tor"
   ]
  },
  {
   "cell_type": "code",
   "execution_count": null,
   "metadata": {},
   "outputs": [],
   "source": [
    "import csv\n",
    "import pandas as pd\n",
    "df_review_csv = pd.read_csv('D:\\Ryerson\\CIND820\\Kaggle_yelp_dataset_CSV\\yelp_review.csv')\n",
    "df_review_csv_300k = df_review_csv.head(300000)\n",
    "df_review_csv_300k"
   ]
  },
  {
   "cell_type": "code",
   "execution_count": null,
   "metadata": {},
   "outputs": [],
   "source": [
    "##join table\n",
    "join_BID_tor = pd.merge(df_business_csv_tor, df_review_csv_300k, on = 'business_id')\n",
    "join_BID_tor"
   ]
  },
  {
   "cell_type": "code",
   "execution_count": 39,
   "metadata": {},
   "outputs": [],
   "source": [
    "join_BID_tor.to_csv('D:\\Ryerson\\CIND820\\Kaggle_yelp_dataset_CSV\\join_BID_tor.csv')"
   ]
  },
  {
   "cell_type": "code",
   "execution_count": 31,
   "metadata": {},
   "outputs": [
    {
     "data": {
      "text/plain": [
       "Index(['review_id', 'user_id', 'business_id', 'stars', 'date', 'text',\n",
       "       'useful', 'funny', 'cool'],\n",
       "      dtype='object')"
      ]
     },
     "execution_count": 31,
     "metadata": {},
     "output_type": "execute_result"
    }
   ],
   "source": [
    "df_review_csv.columns"
   ]
  },
  {
   "cell_type": "code",
   "execution_count": 40,
   "metadata": {},
   "outputs": [],
   "source": [
    "df_review_csv_300k.to_csv('D:\\Ryerson\\CIND820\\Kaggle_yelp_dataset_CSV\\df_review_csv_300k.csv')"
   ]
  },
  {
   "cell_type": "code",
   "execution_count": null,
   "metadata": {},
   "outputs": [],
   "source": []
  }
 ],
 "metadata": {
  "interpreter": {
   "hash": "8307cd9af0e97630f8d6fae8fa8cf075c5a8326acb952193157434f24c616b4e"
  },
  "kernelspec": {
   "display_name": "Python 3.8.5 64-bit",
   "name": "python3"
  },
  "language_info": {
   "codemirror_mode": {
    "name": "ipython",
    "version": 3
   },
   "file_extension": ".py",
   "mimetype": "text/x-python",
   "name": "python",
   "nbconvert_exporter": "python",
   "pygments_lexer": "ipython3",
   "version": "3.8.5"
  },
  "orig_nbformat": 4
 },
 "nbformat": 4,
 "nbformat_minor": 2
}
