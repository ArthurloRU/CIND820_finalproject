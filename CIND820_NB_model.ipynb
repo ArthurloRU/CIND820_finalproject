{
 "cells": [
  {
   "cell_type": "code",
   "execution_count": 152,
   "metadata": {},
   "outputs": [
    {
     "name": "stdout",
     "output_type": "stream",
     "text": [
      "Requirement already up-to-date: keras in c:\\users\\losh\\appdata\\local\\programs\\python\\python38\\lib\\site-packages (2.7.0)"
     ]
    },
    {
     "name": "stderr",
     "output_type": "stream",
     "text": [
      "WARNING: You are using pip version 20.1.1; however, version 21.3.1 is available.\n",
      "You should consider upgrading via the 'c:\\users\\losh\\appdata\\local\\programs\\python\\python38\\python.exe -m pip install --upgrade pip' command.\n"
     ]
    },
    {
     "name": "stdout",
     "output_type": "stream",
     "text": [
      "\n",
      "Requirement already up-to-date: tensorflow in c:\\users\\losh\\appdata\\local\\programs\\python\\python38\\lib\\site-packages (2.7.0)\n",
      "Requirement already satisfied, skipping upgrade: google-pasta>=0.1.1 in c:\\users\\losh\\appdata\\local\\programs\\python\\python38\\lib\\site-packages (from tensorflow) (0.2.0)\n",
      "Requirement already satisfied, skipping upgrade: keras-preprocessing>=1.1.1 in c:\\users\\losh\\appdata\\local\\programs\\python\\python38\\lib\\site-packages (from tensorflow) (1.1.2)\n",
      "Requirement already satisfied, skipping upgrade: opt-einsum>=2.3.2 in c:\\users\\losh\\appdata\\local\\programs\\python\\python38\\lib\\site-packages (from tensorflow) (3.3.0)\n",
      "Requirement already satisfied, skipping upgrade: termcolor>=1.1.0 in c:\\users\\losh\\appdata\\local\\programs\\python\\python38\\lib\\site-packages (from tensorflow) (1.1.0)\n",
      "Requirement already satisfied, skipping upgrade: protobuf>=3.9.2 in c:\\users\\losh\\appdata\\local\\programs\\python\\python38\\lib\\site-packages (from tensorflow) (3.19.1)\n",
      "Requirement already satisfied, skipping upgrade: wheel<1.0,>=0.32.0 in c:\\users\\losh\\appdata\\local\\programs\\python\\python38\\lib\\site-packages (from tensorflow) (0.37.0)\n",
      "Requirement already satisfied, skipping upgrade: h5py>=2.9.0 in c:\\users\\losh\\appdata\\local\\programs\\python\\python38\\lib\\site-packages (from tensorflow) (3.6.0)\n",
      "Requirement already satisfied, skipping upgrade: tensorboard~=2.6 in c:\\users\\losh\\appdata\\local\\programs\\python\\python38\\lib\\site-packages (from tensorflow) (2.7.0)\n",
      "Requirement already satisfied, skipping upgrade: astunparse>=1.6.0 in c:\\users\\losh\\appdata\\local\\programs\\python\\python38\\lib\\site-packages (from tensorflow) (1.6.3)\n",
      "Requirement already satisfied, skipping upgrade: tensorflow-io-gcs-filesystem>=0.21.0 in c:\\users\\losh\\appdata\\local\\programs\\python\\python38\\lib\\site-packages (from tensorflow) (0.22.0)\n",
      "Requirement already satisfied, skipping upgrade: numpy>=1.14.5 in c:\\users\\losh\\appdata\\local\\programs\\python\\python38\\lib\\site-packages (from tensorflow) (1.21.2)\n",
      "Requirement already satisfied, skipping upgrade: keras<2.8,>=2.7.0rc0 in c:\\users\\losh\\appdata\\local\\programs\\python\\python38\\lib\\site-packages (from tensorflow) (2.7.0)\n",
      "Requirement already satisfied, skipping upgrade: grpcio<2.0,>=1.24.3 in c:\\users\\losh\\appdata\\local\\programs\\python\\python38\\lib\\site-packages (from tensorflow) (1.42.0)\n",
      "Requirement already satisfied, skipping upgrade: flatbuffers<3.0,>=1.12 in c:\\users\\losh\\appdata\\local\\programs\\python\\python38\\lib\\site-packages (from tensorflow) (2.0)\n",
      "Requirement already satisfied, skipping upgrade: gast<0.5.0,>=0.2.1 in c:\\users\\losh\\appdata\\local\\programs\\python\\python38\\lib\\site-packages (from tensorflow) (0.4.0)\n",
      "Requirement already satisfied, skipping upgrade: tensorflow-estimator<2.8,~=2.7.0rc0 in c:\\users\\losh\\appdata\\local\\programs\\python\\python38\\lib\\site-packages (from tensorflow) (2.7.0)\n",
      "Requirement already satisfied, skipping upgrade: wrapt>=1.11.0 in c:\\users\\losh\\appdata\\roaming\\python\\python38\\site-packages (from tensorflow) (1.12.1)\n",
      "Requirement already satisfied, skipping upgrade: absl-py>=0.4.0 in c:\\users\\losh\\appdata\\local\\programs\\python\\python38\\lib\\site-packages (from tensorflow) (1.0.0)\n",
      "Requirement already satisfied, skipping upgrade: libclang>=9.0.1 in c:\\users\\losh\\appdata\\local\\programs\\python\\python38\\lib\\site-packages (from tensorflow) (12.0.0)\n",
      "Requirement already satisfied, skipping upgrade: six>=1.12.0 in c:\\users\\losh\\appdata\\roaming\\python\\python38\\site-packages (from tensorflow) (1.15.0)\n",
      "Requirement already satisfied, skipping upgrade: typing-extensions>=3.6.6 in c:\\users\\losh\\appdata\\local\\programs\\python\\python38\\lib\\site-packages (from tensorflow) (4.0.0)\n",
      "Requirement already satisfied, skipping upgrade: setuptools>=41.0.0 in c:\\users\\losh\\appdata\\local\\programs\\python\\python38\\lib\\site-packages (from tensorboard~=2.6->tensorflow) (47.1.0)\n",
      "Requirement already satisfied, skipping upgrade: google-auth-oauthlib<0.5,>=0.4.1 in c:\\users\\losh\\appdata\\local\\programs\\python\\python38\\lib\\site-packages (from tensorboard~=2.6->tensorflow) (0.4.6)\n",
      "Requirement already satisfied, skipping upgrade: requests<3,>=2.21.0 in c:\\users\\losh\\appdata\\local\\programs\\python\\python38\\lib\\site-packages (from tensorboard~=2.6->tensorflow) (2.26.0)\n",
      "Requirement already satisfied, skipping upgrade: markdown>=2.6.8 in c:\\users\\losh\\appdata\\local\\programs\\python\\python38\\lib\\site-packages (from tensorboard~=2.6->tensorflow) (3.3.6)\n",
      "Requirement already satisfied, skipping upgrade: werkzeug>=0.11.15 in c:\\users\\losh\\appdata\\local\\programs\\python\\python38\\lib\\site-packages (from tensorboard~=2.6->tensorflow) (2.0.2)\n",
      "Requirement already satisfied, skipping upgrade: google-auth<3,>=1.6.3 in c:\\users\\losh\\appdata\\local\\programs\\python\\python38\\lib\\site-packages (from tensorboard~=2.6->tensorflow) (2.3.3)\n",
      "Requirement already satisfied, skipping upgrade: tensorboard-plugin-wit>=1.6.0 in c:\\users\\losh\\appdata\\local\\programs\\python\\python38\\lib\\site-packages (from tensorboard~=2.6->tensorflow) (1.8.0)\n",
      "Requirement already satisfied, skipping upgrade: tensorboard-data-server<0.7.0,>=0.6.0 in c:\\users\\losh\\appdata\\local\\programs\\python\\python38\\lib\\site-packages (from tensorboard~=2.6->tensorflow) (0.6.1)\n",
      "Requirement already satisfied, skipping upgrade: requests-oauthlib>=0.7.0 in c:\\users\\losh\\appdata\\local\\programs\\python\\python38\\lib\\site-packages (from google-auth-oauthlib<0.5,>=0.4.1->tensorboard~=2.6->tensorflow) (1.3.0)\n",
      "Requirement already satisfied, skipping upgrade: idna<4,>=2.5; python_version >= \"3\" in c:\\users\\losh\\appdata\\local\\programs\\python\\python38\\lib\\site-packages (from requests<3,>=2.21.0->tensorboard~=2.6->tensorflow) (3.3)\n",
      "Requirement already satisfied, skipping upgrade: charset-normalizer~=2.0.0; python_version >= \"3\" in c:\\users\\losh\\appdata\\local\\programs\\python\\python38\\lib\\site-packages (from requests<3,>=2.21.0->tensorboard~=2.6->tensorflow) (2.0.8)\n",
      "Requirement already satisfied, skipping upgrade: urllib3<1.27,>=1.21.1 in c:\\users\\losh\\appdata\\local\\programs\\python\\python38\\lib\\site-packages (from requests<3,>=2.21.0->tensorboard~=2.6->tensorflow) (1.26.7)\n",
      "Requirement already satisfied, skipping upgrade: certifi>=2017.4.17 in c:\\users\\losh\\appdata\\local\\programs\\python\\python38\\lib\\site-packages (from requests<3,>=2.21.0->tensorboard~=2.6->tensorflow) (2021.10.8)\n",
      "Requirement already satisfied, skipping upgrade: importlib-metadata>=4.4; python_version < \"3.10\" in c:\\users\\losh\\appdata\\local\\programs\\python\\python38\\lib\\site-packages (from markdown>=2.6.8->tensorboard~=2.6->tensorflow) (4.8.2)\n",
      "Requirement already satisfied, skipping upgrade: cachetools<5.0,>=2.0.0 in c:\\users\\losh\\appdata\\local\\programs\\python\\python38\\lib\\site-packages (from google-auth<3,>=1.6.3->tensorboard~=2.6->tensorflow) (4.2.4)\n",
      "Requirement already satisfied, skipping upgrade: pyasn1-modules>=0.2.1 in c:\\users\\losh\\appdata\\local\\programs\\python\\python38\\lib\\site-packages (from google-auth<3,>=1.6.3->tensorboard~=2.6->tensorflow) (0.2.8)\n",
      "Requirement already satisfied, skipping upgrade: rsa<5,>=3.1.4; python_version >= \"3.6\" in c:\\users\\losh\\appdata\\local\\programs\\python\\python38\\lib\\site-packages (from google-auth<3,>=1.6.3->tensorboard~=2.6->tensorflow) (4.8)\n",
      "Requirement already satisfied, skipping upgrade: oauthlib>=3.0.0 in c:\\users\\losh\\appdata\\local\\programs\\python\\python38\\lib\\site-packages (from requests-oauthlib>=0.7.0->google-auth-oauthlib<0.5,>=0.4.1->tensorboard~=2.6->tensorflow) (3.1.1)\n",
      "Requirement already satisfied, skipping upgrade: zipp>=0.5 in c:\\users\\losh\\appdata\\local\\programs\\python\\python38\\lib\\site-packages (from importlib-metadata>=4.4; python_version < \"3.10\"->markdown>=2.6.8->tensorboard~=2.6->tensorflow) (3.6.0)\n",
      "Requirement already satisfied, skipping upgrade: pyasn1<0.5.0,>=0.4.6 in c:\\users\\losh\\appdata\\local\\programs\\python\\python38\\lib\\site-packages (from pyasn1-modules>=0.2.1->google-auth<3,>=1.6.3->tensorboard~=2.6->tensorflow) (0.4.8)\n"
     ]
    },
    {
     "name": "stderr",
     "output_type": "stream",
     "text": [
      "WARNING: You are using pip version 20.1.1; however, version 21.3.1 is available.\n",
      "You should consider upgrading via the 'c:\\users\\losh\\appdata\\local\\programs\\python\\python38\\python.exe -m pip install --upgrade pip' command.\n"
     ]
    }
   ],
   "source": [
    "!pip install -U keras\n",
    "!pip install -U tensorflow"
   ]
  },
  {
   "cell_type": "code",
   "execution_count": 154,
   "metadata": {},
   "outputs": [],
   "source": [
    "import numpy as np\n",
    "import pandas as pd\n",
    "from scipy import sparse\n",
    "\n",
    "from sklearn.pipeline import Pipeline, make_pipeline\n",
    "from sklearn.feature_extraction.text import TfidfVectorizer\n",
    "from sklearn.base import BaseEstimator, ClassifierMixin\n",
    "from sklearn.linear_model import LogisticRegression\n",
    "from sklearn.model_selection import cross_val_score\n",
    "from sklearn import metrics\n",
    "from sklearn.metrics import roc_auc_score\n",
    "\n",
    "from keras.preprocessing.text import Tokenizer\n",
    "from keras.preprocessing.sequence import pad_sequences\n",
    "from keras.layers import Dense, Input, LSTM, Embedding, Dropout, Activation, SpatialDropout1D, GRU\n",
    "from keras.layers import Bidirectional, GlobalAveragePooling1D, GlobalMaxPooling1D, concatenate\n",
    "from keras.models import Model\n",
    "from keras import initializers, regularizers, constraints, optimizers, layers\n",
    "# from keras.utils import to_categorical\n",
    "from keras.callbacks import EarlyStopping, ModelCheckpoint\n",
    "%matplotlib inline"
   ]
  },
  {
   "cell_type": "code",
   "execution_count": 7,
   "metadata": {},
   "outputs": [],
   "source": [
    "#5 mil reviews\n",
    "import csv\n",
    "import pandas as pd\n",
    "df_review_csv = pd.read_csv('D:\\Ryerson\\CIND820\\Kaggle_yelp_dataset_CSV\\yelp_review.csv')"
   ]
  },
  {
   "cell_type": "code",
   "execution_count": 8,
   "metadata": {},
   "outputs": [],
   "source": [
    "#170k businesses\n",
    "import csv\n",
    "import pandas as pd\n",
    "df_business_csv = pd.read_csv('D:\\Ryerson\\CIND820\\Kaggle_yelp_dataset_CSV\\yelp_business.csv')"
   ]
  },
  {
   "cell_type": "code",
   "execution_count": 81,
   "metadata": {},
   "outputs": [
    {
     "data": {
      "text/plain": [
       "<bound method DataFrame.info of         Unnamed: 0               review_id                 user_id  \\\n",
       "0               33  7GsVl-wMaSfG1VoEK6-s6g  u0LXt3Uea_GidxRW1xcsfg   \n",
       "1               43  Ebggx4Zlc4VWReJMG1nT6w  u0LXt3Uea_GidxRW1xcsfg   \n",
       "2               51  jREsaout3cuhKbROVDXUFg  u0LXt3Uea_GidxRW1xcsfg   \n",
       "3               69  S5BSUs-iDrwn6o5968LmEg  u0LXt3Uea_GidxRW1xcsfg   \n",
       "4              198  qOkKKBgIvpg3xzxJitCoCQ  tL2pS5UOmN6aAOi3Z-qFGg   \n",
       "...            ...                     ...                     ...   \n",
       "327061     5261588  5_aZDCrvcJA1jSeIrOPY-A  4Iwu57GSychxpqa4w4HAMQ   \n",
       "327062     5261597  YeyZiBUk8gAb3vZCQxXBbQ  4Iwu57GSychxpqa4w4HAMQ   \n",
       "327063     5261601  YQz-PA9hdXMZclkUPhKkBw  4Iwu57GSychxpqa4w4HAMQ   \n",
       "327064     5261649  z9wJdAjysjEOGSKBaIvMGg  mPjPyipaD0C_myqWqDipZg   \n",
       "327065     5261650  JldIaWJdtnTJVQxmh-3SAA  mPjPyipaD0C_myqWqDipZg   \n",
       "\n",
       "                   business_id  stars        date  \\\n",
       "0       3E5umUqaU5OZAV3jNLW3kQ      4  2017-11-02   \n",
       "1       l1_S1mfGbEMxfT1f9omhEA      1  2017-10-16   \n",
       "2       I44P6Pfoey2pArOhhx2RnA      4  2017-10-17   \n",
       "3       xNNAfZJkLZlAeS-I7-QwgA      3  2017-10-16   \n",
       "4       Trbt0Ex85yvwT8DHoEFCvg      1  2017-10-11   \n",
       "...                        ...    ...         ...   \n",
       "327061  ElEvFQpC5iRKAiFaGiPxvw      3  2017-10-28   \n",
       "327062  lUA9nBJ00zriLszH8taCEQ      4  2017-12-10   \n",
       "327063  0LGnU7V3nepi8NUNzyQOXw      4  2017-10-27   \n",
       "327064  OsB_ZtFAaLDCPzvlAjHQ-w      3  2017-10-31   \n",
       "327065  AtUtG-oQp1rkk6ZdYcfSzw      2  2017-11-02   \n",
       "\n",
       "                                                     text  useful  funny  cool  \n",
       "0       Great place to bring dogs! It's really a dog p...       0      0     0  \n",
       "1       Terrible service and not so great drinks.\\n\\nW...       0      0     0  \n",
       "2       Cute little hole in the wall place. Two entran...       0      0     0  \n",
       "3       We were here on a holiday Monday where nothing...       0      0     0  \n",
       "4       Ordered food to go from here.\\n\\nThey send you...       2      1     0  \n",
       "...                                                   ...     ...    ...   ...  \n",
       "327061  Love the deli. Don't love having to take back ...       1      1     1  \n",
       "327062  Yes, i drive all the way to this clinic for my...       0      0     0  \n",
       "327063  The line is fifteen people deep on a busy Satu...       0      0     0  \n",
       "327064  The restaurant closes at 10:00pm, I arrived at...       0      0     0  \n",
       "327065  Service:\\n\\nAverage Chinese cafe service.  Hav...       0      0     0  \n",
       "\n",
       "[327066 rows x 10 columns]>"
      ]
     },
     "execution_count": 81,
     "metadata": {},
     "output_type": "execute_result"
    }
   ],
   "source": [
    "# Filter data between two dates (around 300k)\n",
    "import csv\n",
    "import pandas as pd\n",
    "df_review_csv_sept = pd.read_csv('D:\\Ryerson\\CIND820\\Kaggle_yelp_dataset_CSV\\df_review_csv_sept.csv')\n",
    "\n",
    "df_review_csv_sept.info"
   ]
  },
  {
   "cell_type": "code",
   "execution_count": 40,
   "metadata": {},
   "outputs": [
    {
     "data": {
      "text/plain": [
       "<bound method DataFrame.info of        Unnamed: 0             business_id                      name  \\\n",
       "0               0  1K4qrnfyzKzGgJPBEcJaNQ  \"Chula Taberna Mexicana\"   \n",
       "1               1  1K4qrnfyzKzGgJPBEcJaNQ  \"Chula Taberna Mexicana\"   \n",
       "2               2  1K4qrnfyzKzGgJPBEcJaNQ  \"Chula Taberna Mexicana\"   \n",
       "3               3  1K4qrnfyzKzGgJPBEcJaNQ  \"Chula Taberna Mexicana\"   \n",
       "4               4  1K4qrnfyzKzGgJPBEcJaNQ  \"Chula Taberna Mexicana\"   \n",
       "...           ...                     ...                       ...   \n",
       "20428       20428  xHBSMycXDJJ3sB0IF6BJDw     \"Purple Penguin Cafe\"   \n",
       "20429       20429  Ue2H-ajY-uBKwGoBDQutCA           \"Wok & Fortune\"   \n",
       "20430       20430  sEAKw3MZkER1u_1fzIeD3g            \"Gol Take-Out\"   \n",
       "20431       20431  sEAKw3MZkER1u_1fzIeD3g            \"Gol Take-Out\"   \n",
       "20432       20432  sEAKw3MZkER1u_1fzIeD3g            \"Gol Take-Out\"   \n",
       "\n",
       "      neighborhood                   address     city state postal_code  \\\n",
       "0      Leslieville   \"1058 Gerrard Street E\"  Toronto    ON     M4M 3A6   \n",
       "1      Leslieville   \"1058 Gerrard Street E\"  Toronto    ON     M4M 3A6   \n",
       "2      Leslieville   \"1058 Gerrard Street E\"  Toronto    ON     M4M 3A6   \n",
       "3      Leslieville   \"1058 Gerrard Street E\"  Toronto    ON     M4M 3A6   \n",
       "4      Leslieville   \"1058 Gerrard Street E\"  Toronto    ON     M4M 3A6   \n",
       "...            ...                       ...      ...   ...         ...   \n",
       "20428  Leslieville      \"889 Queen Street E\"  Toronto    ON     M4M 1J4   \n",
       "20429  Scarborough  \"2900 Eglinton Avenue E\"  Toronto    ON     M1J 2E4   \n",
       "20430   Willowdale  \"5 Spring Garden Avenue\"  Toronto    ON     M2N 3G1   \n",
       "20431   Willowdale  \"5 Spring Garden Avenue\"  Toronto    ON     M2N 3G1   \n",
       "20432   Willowdale  \"5 Spring Garden Avenue\"  Toronto    ON     M2N 3G1   \n",
       "\n",
       "        latitude  longitude  ...  \\\n",
       "0      43.669256 -79.335902  ...   \n",
       "1      43.669256 -79.335902  ...   \n",
       "2      43.669256 -79.335902  ...   \n",
       "3      43.669256 -79.335902  ...   \n",
       "4      43.669256 -79.335902  ...   \n",
       "...          ...        ...  ...   \n",
       "20428  43.660522 -79.342412  ...   \n",
       "20429  43.738868 -79.238334  ...   \n",
       "20430  43.764386 -79.411206  ...   \n",
       "20431  43.764386 -79.411206  ...   \n",
       "20432  43.764386 -79.411206  ...   \n",
       "\n",
       "                                              categories  \\\n",
       "0           Tiki Bars;Nightlife;Mexican;Restaurants;Bars   \n",
       "1           Tiki Bars;Nightlife;Mexican;Restaurants;Bars   \n",
       "2           Tiki Bars;Nightlife;Mexican;Restaurants;Bars   \n",
       "3           Tiki Bars;Nightlife;Mexican;Restaurants;Bars   \n",
       "4           Tiki Bars;Nightlife;Mexican;Restaurants;Bars   \n",
       "...                                                  ...   \n",
       "20428  Internet Cafes;Breakfast & Brunch;Restaurants;...   \n",
       "20429                      Caribbean;Chinese;Restaurants   \n",
       "20430  Food;Restaurants;International Grocery;Ethnic ...   \n",
       "20431  Food;Restaurants;International Grocery;Ethnic ...   \n",
       "20432  Food;Restaurants;International Grocery;Ethnic ...   \n",
       "\n",
       "                    review_id                 user_id stars_y        date  \\\n",
       "0      M0r_-wgmM9E2Iu5ybGpKYA  AgWz3sUCZawYG_szu7Bx3A       4  2017-09-01   \n",
       "1      Esy7r4Dv37lMCBBcyYJ8NQ  BfDlTQHYOhN4yR9_egMyEA       4  2017-10-12   \n",
       "2      NTBpG4bUbiELkW-3clwDsA  Vj-tbUH0A5vFshZplMN6nw       4  2017-09-05   \n",
       "3      ENxaQOsBcG190ShQl-s7wQ  D-71neazoCYYQkgHnS92FQ       4  2017-10-24   \n",
       "4      gv7zmT7wGLIGTHHTQkBRmw  YtdOIvYescf0uFTgg5owJw       3  2017-10-28   \n",
       "...                       ...                     ...     ...         ...   \n",
       "20428  j9DvyLgflqJzJVS-Z9I8JA  IvaYc8jMuVWsCm0ntcEcCA       1  2017-09-13   \n",
       "20429  5hGqziiV9O2eiV6bE8a5DQ  TVJs6M7wj-HkA42B7aa-kA       2  2017-12-07   \n",
       "20430  2f-nvMbUiK1AJFOFl5xEYQ  AQxZmU78c25XULLlTDD5wQ       2  2017-11-16   \n",
       "20431  gegy1_iVXlOiQ10AuNwq2Q  FXf4Nwx3iVvrJhFSjsgbEA       5  2017-11-24   \n",
       "20432  ovOj8ldsS33zFwJ7KK0k7A  3isOd40gI31wIbMQq7pO2w       4  2017-10-15   \n",
       "\n",
       "                                                    text  useful funny cool  \\\n",
       "0      Taco's were da bomb as expected. If they weren...       0     0    0   \n",
       "1      Chula is such a great addition to the east end...       0     0    0   \n",
       "2      One of the best tacos I've had. All 4 of us lo...       0     0    0   \n",
       "3      A beautiful and cozy little place! Randomly fo...       0     0    0   \n",
       "4      Pros -- The food was reasonably good. Their be...       0     0    0   \n",
       "...                                                  ...     ...   ...  ...   \n",
       "20428  Emo music, stale bagels, they charge you if yo...       0     0    0   \n",
       "20429  First time here, wasn't gona step in cuz revie...       0     0    0   \n",
       "20430  I don't know why but the quality and service a...       0     0    0   \n",
       "20431  Gol (Flower in Farsi) is not a fancy bouquet. ...       0     0    0   \n",
       "20432  Here is the best place you can find persian fo...       0     0    0   \n",
       "\n",
       "       FSA  \n",
       "0      M4M  \n",
       "1      M4M  \n",
       "2      M4M  \n",
       "3      M4M  \n",
       "4      M4M  \n",
       "...    ...  \n",
       "20428  M4M  \n",
       "20429  M1J  \n",
       "20430  M2N  \n",
       "20431  M2N  \n",
       "20432  M2N  \n",
       "\n",
       "[20433 rows x 23 columns]>"
      ]
     },
     "execution_count": 40,
     "metadata": {},
     "output_type": "execute_result"
    }
   ],
   "source": [
    "import csv\n",
    "import pandas as pd\n",
    "join_BID_tor_v2 = pd.read_csv('D:\\Ryerson\\CIND820\\Kaggle_yelp_dataset_CSV\\join_BID_tor_v2.csv')\n",
    "join_BID_tor_v2.info"
   ]
  },
  {
   "cell_type": "code",
   "execution_count": 125,
   "metadata": {},
   "outputs": [],
   "source": [
    "join_BID_tor_v2_samp = join_BID_tor_v2.sample(n = 20433 , random_state = 42)\n",
    "train = join_BID_tor_v2_samp[0:18000]\n",
    "test = join_BID_tor_v2_samp[18000:]"
   ]
  },
  {
   "cell_type": "code",
   "execution_count": 126,
   "metadata": {},
   "outputs": [
    {
     "data": {
      "text/plain": [
       "((18000, 23), (2433, 23))"
      ]
     },
     "execution_count": 126,
     "metadata": {},
     "output_type": "execute_result"
    }
   ],
   "source": [
    "train.shape, test.shape"
   ]
  },
  {
   "cell_type": "code",
   "execution_count": 127,
   "metadata": {},
   "outputs": [
    {
     "data": {
      "text/html": [
       "<div>\n",
       "<style scoped>\n",
       "    .dataframe tbody tr th:only-of-type {\n",
       "        vertical-align: middle;\n",
       "    }\n",
       "\n",
       "    .dataframe tbody tr th {\n",
       "        vertical-align: top;\n",
       "    }\n",
       "\n",
       "    .dataframe thead th {\n",
       "        text-align: right;\n",
       "    }\n",
       "</style>\n",
       "<table border=\"1\" class=\"dataframe\">\n",
       "  <thead>\n",
       "    <tr style=\"text-align: right;\">\n",
       "      <th></th>\n",
       "      <th>text</th>\n",
       "      <th>stars_y</th>\n",
       "    </tr>\n",
       "  </thead>\n",
       "  <tbody>\n",
       "    <tr>\n",
       "      <th>14278</th>\n",
       "      <td>Staff is rude, not helpful at all. That is whe...</td>\n",
       "      <td>1</td>\n",
       "    </tr>\n",
       "    <tr>\n",
       "      <th>16224</th>\n",
       "      <td>This is a nice place to come to catch up with ...</td>\n",
       "      <td>4</td>\n",
       "    </tr>\n",
       "    <tr>\n",
       "      <th>7646</th>\n",
       "      <td>Hands down the best vegan bakery in Toronto! \\...</td>\n",
       "      <td>5</td>\n",
       "    </tr>\n",
       "    <tr>\n",
       "      <th>1402</th>\n",
       "      <td>I was impressed, they have here the same starb...</td>\n",
       "      <td>4</td>\n",
       "    </tr>\n",
       "    <tr>\n",
       "      <th>1328</th>\n",
       "      <td>I don't understand why there is hype around th...</td>\n",
       "      <td>1</td>\n",
       "    </tr>\n",
       "  </tbody>\n",
       "</table>\n",
       "</div>"
      ],
      "text/plain": [
       "                                                    text  stars_y\n",
       "14278  Staff is rude, not helpful at all. That is whe...        1\n",
       "16224  This is a nice place to come to catch up with ...        4\n",
       "7646   Hands down the best vegan bakery in Toronto! \\...        5\n",
       "1402   I was impressed, they have here the same starb...        4\n",
       "1328   I don't understand why there is hype around th...        1"
      ]
     },
     "execution_count": 127,
     "metadata": {},
     "output_type": "execute_result"
    },
    {
     "data": {
      "image/png": "[encoded data removed]",
      "text/plain": [
       "<Figure size 432x288 with 1 Axes>"
      ]
     },
     "metadata": {
      "needs_background": "light"
     },
     "output_type": "display_data"
    }
   ],
   "source": [
    "#train = pd.read_csv('/home/adam/R/Yelp/dataset/model_train.csv', usecols = ['text', 'stars'])\n",
    "train = train[['text', 'stars_y']]\n",
    "train['stars_y'].hist();train.head()"
   ]
  },
  {
   "cell_type": "code",
   "execution_count": 128,
   "metadata": {},
   "outputs": [
    {
     "data": {
      "text/html": [
       "<div>\n",
       "<style scoped>\n",
       "    .dataframe tbody tr th:only-of-type {\n",
       "        vertical-align: middle;\n",
       "    }\n",
       "\n",
       "    .dataframe tbody tr th {\n",
       "        vertical-align: top;\n",
       "    }\n",
       "\n",
       "    .dataframe thead th {\n",
       "        text-align: right;\n",
       "    }\n",
       "</style>\n",
       "<table border=\"1\" class=\"dataframe\">\n",
       "  <thead>\n",
       "    <tr style=\"text-align: right;\">\n",
       "      <th></th>\n",
       "      <th>text</th>\n",
       "      <th>stars_y_1</th>\n",
       "      <th>stars_y_2</th>\n",
       "      <th>stars_y_3</th>\n",
       "      <th>stars_y_4</th>\n",
       "      <th>stars_y_5</th>\n",
       "    </tr>\n",
       "  </thead>\n",
       "  <tbody>\n",
       "    <tr>\n",
       "      <th>14278</th>\n",
       "      <td>Staff is rude, not helpful at all. That is whe...</td>\n",
       "      <td>1</td>\n",
       "      <td>0</td>\n",
       "      <td>0</td>\n",
       "      <td>0</td>\n",
       "      <td>0</td>\n",
       "    </tr>\n",
       "    <tr>\n",
       "      <th>16224</th>\n",
       "      <td>This is a nice place to come to catch up with ...</td>\n",
       "      <td>0</td>\n",
       "      <td>0</td>\n",
       "      <td>0</td>\n",
       "      <td>1</td>\n",
       "      <td>0</td>\n",
       "    </tr>\n",
       "    <tr>\n",
       "      <th>7646</th>\n",
       "      <td>Hands down the best vegan bakery in Toronto! \\...</td>\n",
       "      <td>0</td>\n",
       "      <td>0</td>\n",
       "      <td>0</td>\n",
       "      <td>0</td>\n",
       "      <td>1</td>\n",
       "    </tr>\n",
       "    <tr>\n",
       "      <th>1402</th>\n",
       "      <td>I was impressed, they have here the same starb...</td>\n",
       "      <td>0</td>\n",
       "      <td>0</td>\n",
       "      <td>0</td>\n",
       "      <td>1</td>\n",
       "      <td>0</td>\n",
       "    </tr>\n",
       "    <tr>\n",
       "      <th>1328</th>\n",
       "      <td>I don't understand why there is hype around th...</td>\n",
       "      <td>1</td>\n",
       "      <td>0</td>\n",
       "      <td>0</td>\n",
       "      <td>0</td>\n",
       "      <td>0</td>\n",
       "    </tr>\n",
       "  </tbody>\n",
       "</table>\n",
       "</div>"
      ],
      "text/plain": [
       "                                                    text  stars_y_1  \\\n",
       "14278  Staff is rude, not helpful at all. That is whe...          1   \n",
       "16224  This is a nice place to come to catch up with ...          0   \n",
       "7646   Hands down the best vegan bakery in Toronto! \\...          0   \n",
       "1402   I was impressed, they have here the same starb...          0   \n",
       "1328   I don't understand why there is hype around th...          1   \n",
       "\n",
       "       stars_y_2  stars_y_3  stars_y_4  stars_y_5  \n",
       "14278          0          0          0          0  \n",
       "16224          0          0          1          0  \n",
       "7646           0          0          0          1  \n",
       "1402           0          0          1          0  \n",
       "1328           0          0          0          0  "
      ]
     },
     "execution_count": 128,
     "metadata": {},
     "output_type": "execute_result"
    }
   ],
   "source": [
    "train = pd.get_dummies(train, columns = ['stars_y'])\n",
    "train.head()"
   ]
  },
  {
   "cell_type": "code",
   "execution_count": 129,
   "metadata": {},
   "outputs": [
    {
     "data": {
      "text/plain": [
       "((18000, 6), (2433, 6))"
      ]
     },
     "execution_count": 129,
     "metadata": {},
     "output_type": "execute_result"
    }
   ],
   "source": [
    "#test = pd.read_csv('/home/adam/R/Yelp/dataset/model_test.csv', usecols=['text', 'stars'])\n",
    "test = test[['text', 'stars_y']]\n",
    "test = pd.get_dummies(test, columns = ['stars_y'])\n",
    "train.shape, test.shape"
   ]
  },
  {
   "cell_type": "code",
   "execution_count": 133,
   "metadata": {},
   "outputs": [
    {
     "data": {
      "text/plain": [
       "((5940, 6), (803, 6))"
      ]
     },
     "execution_count": 133,
     "metadata": {},
     "output_type": "execute_result"
    }
   ],
   "source": [
    "# set frac = .33 to use the entire sample\n",
    "train_samp = train.sample(frac = .33, random_state = 42)\n",
    "test_samp = test.sample(frac = .33, random_state = 42)\n",
    "train_samp.shape, test_samp.shape"
   ]
  },
  {
   "cell_type": "code",
   "execution_count": 144,
   "metadata": {},
   "outputs": [],
   "source": [
    "# max_features is an upper bound on the number of words in the vocabulary\n",
    "max_features = 2000\n",
    "tfidf = TfidfVectorizer(max_features = max_features)"
   ]
  },
  {
   "cell_type": "code",
   "execution_count": 145,
   "metadata": {},
   "outputs": [],
   "source": [
    "class NBFeatures(BaseEstimator):\n",
    "    def __init__(self, alpha):\n",
    "        # Smoothing Parameter: always going to be one for my use\n",
    "        self.alpha = alpha\n",
    "        \n",
    "    def preprocess_x(self, x, r):\n",
    "        return x.multiply(r)\n",
    "    \n",
    "    # calculate probabilities\n",
    "    def pr(self, x, y_i, y):\n",
    "        p = x[y == y_i].sum(0)\n",
    "        return (p + self.alpha)/((y==y_i).sum()+self.alpha)\n",
    "    \n",
    "    # calculate the log ratio and represent as sparse matrix\n",
    "    # ie fit the nb model\n",
    "    def fit(self, x, y = None):\n",
    "        self._r = sparse.csr_matrix(np.log(self.pr(x, 1, y) /self.pr(x, 0, y)))\n",
    "        return self\n",
    "    \n",
    "    # apply the nb fit to original features x\n",
    "    def transform(self, x):\n",
    "        x_nb = self.preprocess_x(x, self._r)\n",
    "        return x_nb"
   ]
  },
  {
   "cell_type": "code",
   "execution_count": 146,
   "metadata": {},
   "outputs": [],
   "source": [
    "# Create pipeline using sklearn pipeline:\n",
    "    # I basically create my tfidf features which are fed to my NB model \n",
    "    # for probability calculations. Then those are fed as input to my \n",
    "    # logistic regression model.\n",
    "lr = LogisticRegression()\n",
    "nb = NBFeatures(1)\n",
    "p = Pipeline([\n",
    "    ('tfidf', tfidf),\n",
    "    ('nb', nb),\n",
    "    ('lr', lr)\n",
    "])"
   ]
  },
  {
   "cell_type": "code",
   "execution_count": 147,
   "metadata": {},
   "outputs": [
    {
     "name": "stdout",
     "output_type": "stream",
     "text": [
      "CV score for class stars_y_1 is 0.9207070707070707\n",
      "CV score for class stars_y_2 is 0.9131313131313131\n",
      "CV score for class stars_y_3 is 0.8346801346801347\n",
      "CV score for class stars_y_4 is 0.6873737373737373\n",
      "CV score for class stars_y_5 is 0.7745791245791246\n"
     ]
    }
   ],
   "source": [
    "class_names = ['stars_y_1', 'stars_y_2', 'stars_y_3', 'stars_y_4', 'stars_y_5']\n",
    "scores = []\n",
    "preds = np.zeros((len(test_samp), len(class_names)))\n",
    "for i, class_name in enumerate(class_names):\n",
    "    train_target = train_samp[class_name]    \n",
    "    cv_score = np.mean(cross_val_score(estimator = p, X = train_samp['text'].values, \n",
    "                                      y = train_target, cv = 3, scoring = 'accuracy'))\n",
    "    scores.append(cv_score)\n",
    "    print('CV score for class {} is {}'.format(class_name, cv_score))\n",
    "    p.fit(train_samp['text'].values, train_target)\n",
    "    preds[:,i] = p.predict_proba(test_samp['text'].values)[:,1]"
   ]
  },
  {
   "cell_type": "code",
   "execution_count": 148,
   "metadata": {},
   "outputs": [
    {
     "name": "stdout",
     "output_type": "stream",
     "text": [
      "              precision    recall  f1-score   support\n",
      "\n",
      "           0       0.75      0.71      0.73        94\n",
      "           1       0.23      0.04      0.07        72\n",
      "           2       0.44      0.22      0.29       137\n",
      "           3       0.44      0.52      0.48       256\n",
      "           4       0.59      0.79      0.67       244\n",
      "\n",
      "    accuracy                           0.53       803\n",
      "   macro avg       0.49      0.46      0.45       803\n",
      "weighted avg       0.50      0.53      0.50       803\n",
      "\n"
     ]
    }
   ],
   "source": [
    "t = metrics.classification_report(np.argmax(test_samp[class_names].values, axis = 1),np.argmax(preds, axis = 1))\n",
    "print(t)"
   ]
  },
  {
   "cell_type": "code",
   "execution_count": null,
   "metadata": {},
   "outputs": [],
   "source": []
  },
  {
   "cell_type": "code",
   "execution_count": null,
   "metadata": {},
   "outputs": [],
   "source": []
  },
  {
   "cell_type": "code",
   "execution_count": null,
   "metadata": {},
   "outputs": [],
   "source": []
  },
  {
   "cell_type": "code",
   "execution_count": null,
   "metadata": {},
   "outputs": [],
   "source": []
  },
  {
   "cell_type": "code",
   "execution_count": null,
   "metadata": {},
   "outputs": [],
   "source": []
  }
 ],
 "metadata": {
  "interpreter": {
   "hash": "8307cd9af0e97630f8d6fae8fa8cf075c5a8326acb952193157434f24c616b4e"
  },
  "kernelspec": {
   "display_name": "Python 3.8.5 64-bit",
   "name": "python3"
  },
  "language_info": {
   "codemirror_mode": {
    "name": "ipython",
    "version": 3
   },
   "file_extension": ".py",
   "mimetype": "text/x-python",
   "name": "python",
   "nbconvert_exporter": "python",
   "pygments_lexer": "ipython3",
   "version": "3.8.5"
  },
  "orig_nbformat": 4
 },
 "nbformat": 4,
 "nbformat_minor": 2
}
