{
 "cells": [
  {
   "cell_type": "code",
   "execution_count": 16,
   "metadata": {},
   "outputs": [
    {
     "name": "stdout",
     "output_type": "stream",
     "text": [
      "Requirement already up-to-date: keras in c:\\users\\losh\\appdata\\local\\programs\\python\\python38\\lib\\site-packages (2.7.0)"
     ]
    },
    {
     "name": "stderr",
     "output_type": "stream",
     "text": [
      "WARNING: You are using pip version 20.1.1; however, version 21.3.1 is available.\n",
      "You should consider upgrading via the 'c:\\users\\losh\\appdata\\local\\programs\\python\\python38\\python.exe -m pip install --upgrade pip' command.\n"
     ]
    },
    {
     "name": "stdout",
     "output_type": "stream",
     "text": [
      "\n",
      "Requirement already up-to-date: tensorflow in c:\\users\\losh\\appdata\\local\\programs\\python\\python38\\lib\\site-packages (2.7.0)"
     ]
    },
    {
     "name": "stderr",
     "output_type": "stream",
     "text": [
      "WARNING: You are using pip version 20.1.1; however, version 21.3.1 is available.\n",
      "You should consider upgrading via the 'c:\\users\\losh\\appdata\\local\\programs\\python\\python38\\python.exe -m pip install --upgrade pip' command.\n"
     ]
    },
    {
     "name": "stdout",
     "output_type": "stream",
     "text": [
      "\n",
      "Requirement already satisfied, skipping upgrade: h5py>=2.9.0 in c:\\users\\losh\\appdata\\local\\programs\\python\\python38\\lib\\site-packages (from tensorflow) (3.6.0)\n",
      "Requirement already satisfied, skipping upgrade: tensorflow-io-gcs-filesystem>=0.21.0 in c:\\users\\losh\\appdata\\local\\programs\\python\\python38\\lib\\site-packages (from tensorflow) (0.22.0)\n",
      "Requirement already satisfied, skipping upgrade: astunparse>=1.6.0 in c:\\users\\losh\\appdata\\local\\programs\\python\\python38\\lib\\site-packages (from tensorflow) (1.6.3)\n",
      "Requirement already satisfied, skipping upgrade: gast<0.5.0,>=0.2.1 in c:\\users\\losh\\appdata\\local\\programs\\python\\python38\\lib\\site-packages (from tensorflow) (0.4.0)\n",
      "Requirement already satisfied, skipping upgrade: flatbuffers<3.0,>=1.12 in c:\\users\\losh\\appdata\\local\\programs\\python\\python38\\lib\\site-packages (from tensorflow) (2.0)\n",
      "Requirement already satisfied, skipping upgrade: google-pasta>=0.1.1 in c:\\users\\losh\\appdata\\local\\programs\\python\\python38\\lib\\site-packages (from tensorflow) (0.2.0)\n",
      "Requirement already satisfied, skipping upgrade: tensorflow-estimator<2.8,~=2.7.0rc0 in c:\\users\\losh\\appdata\\local\\programs\\python\\python38\\lib\\site-packages (from tensorflow) (2.7.0)\n",
      "Requirement already satisfied, skipping upgrade: numpy>=1.14.5 in c:\\users\\losh\\appdata\\local\\programs\\python\\python38\\lib\\site-packages (from tensorflow) (1.21.2)\n",
      "Requirement already satisfied, skipping upgrade: grpcio<2.0,>=1.24.3 in c:\\users\\losh\\appdata\\local\\programs\\python\\python38\\lib\\site-packages (from tensorflow) (1.42.0)\n",
      "Requirement already satisfied, skipping upgrade: six>=1.12.0 in c:\\users\\losh\\appdata\\roaming\\python\\python38\\site-packages (from tensorflow) (1.15.0)\n",
      "Requirement already satisfied, skipping upgrade: wrapt>=1.11.0 in c:\\users\\losh\\appdata\\roaming\\python\\python38\\site-packages (from tensorflow) (1.12.1)\n",
      "Requirement already satisfied, skipping upgrade: keras<2.8,>=2.7.0rc0 in c:\\users\\losh\\appdata\\local\\programs\\python\\python38\\lib\\site-packages (from tensorflow) (2.7.0)\n",
      "Requirement already satisfied, skipping upgrade: protobuf>=3.9.2 in c:\\users\\losh\\appdata\\local\\programs\\python\\python38\\lib\\site-packages (from tensorflow) (3.19.1)\n",
      "Requirement already satisfied, skipping upgrade: tensorboard~=2.6 in c:\\users\\losh\\appdata\\local\\programs\\python\\python38\\lib\\site-packages (from tensorflow) (2.7.0)\n",
      "Requirement already satisfied, skipping upgrade: typing-extensions>=3.6.6 in c:\\users\\losh\\appdata\\local\\programs\\python\\python38\\lib\\site-packages (from tensorflow) (4.0.0)\n",
      "Requirement already satisfied, skipping upgrade: wheel<1.0,>=0.32.0 in c:\\users\\losh\\appdata\\local\\programs\\python\\python38\\lib\\site-packages (from tensorflow) (0.37.0)\n",
      "Requirement already satisfied, skipping upgrade: absl-py>=0.4.0 in c:\\users\\losh\\appdata\\local\\programs\\python\\python38\\lib\\site-packages (from tensorflow) (1.0.0)\n",
      "Requirement already satisfied, skipping upgrade: keras-preprocessing>=1.1.1 in c:\\users\\losh\\appdata\\local\\programs\\python\\python38\\lib\\site-packages (from tensorflow) (1.1.2)\n",
      "Requirement already satisfied, skipping upgrade: opt-einsum>=2.3.2 in c:\\users\\losh\\appdata\\local\\programs\\python\\python38\\lib\\site-packages (from tensorflow) (3.3.0)\n",
      "Requirement already satisfied, skipping upgrade: libclang>=9.0.1 in c:\\users\\losh\\appdata\\local\\programs\\python\\python38\\lib\\site-packages (from tensorflow) (12.0.0)\n",
      "Requirement already satisfied, skipping upgrade: termcolor>=1.1.0 in c:\\users\\losh\\appdata\\local\\programs\\python\\python38\\lib\\site-packages (from tensorflow) (1.1.0)\n",
      "Requirement already satisfied, skipping upgrade: setuptools>=41.0.0 in c:\\users\\losh\\appdata\\local\\programs\\python\\python38\\lib\\site-packages (from tensorboard~=2.6->tensorflow) (47.1.0)\n",
      "Requirement already satisfied, skipping upgrade: google-auth-oauthlib<0.5,>=0.4.1 in c:\\users\\losh\\appdata\\local\\programs\\python\\python38\\lib\\site-packages (from tensorboard~=2.6->tensorflow) (0.4.6)\n",
      "Requirement already satisfied, skipping upgrade: werkzeug>=0.11.15 in c:\\users\\losh\\appdata\\local\\programs\\python\\python38\\lib\\site-packages (from tensorboard~=2.6->tensorflow) (2.0.2)\n",
      "Requirement already satisfied, skipping upgrade: tensorboard-plugin-wit>=1.6.0 in c:\\users\\losh\\appdata\\local\\programs\\python\\python38\\lib\\site-packages (from tensorboard~=2.6->tensorflow) (1.8.0)\n",
      "Requirement already satisfied, skipping upgrade: tensorboard-data-server<0.7.0,>=0.6.0 in c:\\users\\losh\\appdata\\local\\programs\\python\\python38\\lib\\site-packages (from tensorboard~=2.6->tensorflow) (0.6.1)\n",
      "Requirement already satisfied, skipping upgrade: google-auth<3,>=1.6.3 in c:\\users\\losh\\appdata\\local\\programs\\python\\python38\\lib\\site-packages (from tensorboard~=2.6->tensorflow) (2.3.3)\n",
      "Requirement already satisfied, skipping upgrade: requests<3,>=2.21.0 in c:\\users\\losh\\appdata\\local\\programs\\python\\python38\\lib\\site-packages (from tensorboard~=2.6->tensorflow) (2.26.0)\n",
      "Requirement already satisfied, skipping upgrade: markdown>=2.6.8 in c:\\users\\losh\\appdata\\local\\programs\\python\\python38\\lib\\site-packages (from tensorboard~=2.6->tensorflow) (3.3.6)\n",
      "Requirement already satisfied, skipping upgrade: requests-oauthlib>=0.7.0 in c:\\users\\losh\\appdata\\local\\programs\\python\\python38\\lib\\site-packages (from google-auth-oauthlib<0.5,>=0.4.1->tensorboard~=2.6->tensorflow) (1.3.0)\n",
      "Requirement already satisfied, skipping upgrade: cachetools<5.0,>=2.0.0 in c:\\users\\losh\\appdata\\local\\programs\\python\\python38\\lib\\site-packages (from google-auth<3,>=1.6.3->tensorboard~=2.6->tensorflow) (4.2.4)\n",
      "Requirement already satisfied, skipping upgrade: pyasn1-modules>=0.2.1 in c:\\users\\losh\\appdata\\local\\programs\\python\\python38\\lib\\site-packages (from google-auth<3,>=1.6.3->tensorboard~=2.6->tensorflow) (0.2.8)\n",
      "Requirement already satisfied, skipping upgrade: rsa<5,>=3.1.4; python_version >= \"3.6\" in c:\\users\\losh\\appdata\\local\\programs\\python\\python38\\lib\\site-packages (from google-auth<3,>=1.6.3->tensorboard~=2.6->tensorflow) (4.8)\n",
      "Requirement already satisfied, skipping upgrade: idna<4,>=2.5; python_version >= \"3\" in c:\\users\\losh\\appdata\\local\\programs\\python\\python38\\lib\\site-packages (from requests<3,>=2.21.0->tensorboard~=2.6->tensorflow) (3.3)\n",
      "Requirement already satisfied, skipping upgrade: certifi>=2017.4.17 in c:\\users\\losh\\appdata\\local\\programs\\python\\python38\\lib\\site-packages (from requests<3,>=2.21.0->tensorboard~=2.6->tensorflow) (2021.10.8)\n",
      "Requirement already satisfied, skipping upgrade: charset-normalizer~=2.0.0; python_version >= \"3\" in c:\\users\\losh\\appdata\\local\\programs\\python\\python38\\lib\\site-packages (from requests<3,>=2.21.0->tensorboard~=2.6->tensorflow) (2.0.8)\n",
      "Requirement already satisfied, skipping upgrade: urllib3<1.27,>=1.21.1 in c:\\users\\losh\\appdata\\local\\programs\\python\\python38\\lib\\site-packages (from requests<3,>=2.21.0->tensorboard~=2.6->tensorflow) (1.26.7)\n",
      "Requirement already satisfied, skipping upgrade: importlib-metadata>=4.4; python_version < \"3.10\" in c:\\users\\losh\\appdata\\local\\programs\\python\\python38\\lib\\site-packages (from markdown>=2.6.8->tensorboard~=2.6->tensorflow) (4.8.2)\n",
      "Requirement already satisfied, skipping upgrade: oauthlib>=3.0.0 in c:\\users\\losh\\appdata\\local\\programs\\python\\python38\\lib\\site-packages (from requests-oauthlib>=0.7.0->google-auth-oauthlib<0.5,>=0.4.1->tensorboard~=2.6->tensorflow) (3.1.1)\n",
      "Requirement already satisfied, skipping upgrade: pyasn1<0.5.0,>=0.4.6 in c:\\users\\losh\\appdata\\local\\programs\\python\\python38\\lib\\site-packages (from pyasn1-modules>=0.2.1->google-auth<3,>=1.6.3->tensorboard~=2.6->tensorflow) (0.4.8)\n",
      "Requirement already satisfied, skipping upgrade: zipp>=0.5 in c:\\users\\losh\\appdata\\local\\programs\\python\\python38\\lib\\site-packages (from importlib-metadata>=4.4; python_version < \"3.10\"->markdown>=2.6.8->tensorboard~=2.6->tensorflow) (3.6.0)\n"
     ]
    }
   ],
   "source": [
    "!pip install -U keras\n",
    "!pip install -U tensorflow"
   ]
  },
  {
   "cell_type": "code",
   "execution_count": 17,
   "metadata": {},
   "outputs": [],
   "source": [
    "import numpy as np\n",
    "import pandas as pd\n",
    "from scipy import sparse\n",
    "\n",
    "from sklearn.pipeline import Pipeline, make_pipeline\n",
    "from sklearn.feature_extraction.text import TfidfVectorizer\n",
    "from sklearn.base import BaseEstimator, ClassifierMixin\n",
    "from sklearn.linear_model import LogisticRegression\n",
    "from sklearn.model_selection import cross_val_score\n",
    "from sklearn import metrics\n",
    "from sklearn.metrics import roc_auc_score\n",
    "\n",
    "from keras.preprocessing.text import Tokenizer\n",
    "from keras.preprocessing.sequence import pad_sequences\n",
    "from keras.layers import Dense, Input, LSTM, Embedding, Dropout, Activation, SpatialDropout1D, GRU\n",
    "from keras.layers import Bidirectional, GlobalAveragePooling1D, GlobalMaxPooling1D, concatenate\n",
    "from keras.models import Model\n",
    "from keras import initializers, regularizers, constraints, optimizers, layers\n",
    "# from keras.utils import to_categorical\n",
    "from keras.callbacks import EarlyStopping, ModelCheckpoint\n",
    "%matplotlib inline"
   ]
  },
  {
   "cell_type": "code",
   "execution_count": 18,
   "metadata": {},
   "outputs": [],
   "source": [
    "import csv\n",
    "import pandas as pd\n",
    "join_BID_tor_v2 = pd.read_csv('D:\\Ryerson\\CIND820\\Kaggle_yelp_dataset_CSV\\join_BID_tor_v2.csv')"
   ]
  },
  {
   "cell_type": "code",
   "execution_count": 19,
   "metadata": {},
   "outputs": [],
   "source": [
    "join_BID_tor_v2_samp = join_BID_tor_v2.sample(n = 20433 , random_state = 101)\n",
    "train = join_BID_tor_v2_samp[0:14000]\n",
    "test = join_BID_tor_v2_samp[14000:]"
   ]
  },
  {
   "cell_type": "code",
   "execution_count": 20,
   "metadata": {},
   "outputs": [
    {
     "data": {
      "text/plain": [
       "((14000, 23), (6433, 23))"
      ]
     },
     "execution_count": 20,
     "metadata": {},
     "output_type": "execute_result"
    }
   ],
   "source": [
    "train.shape, test.shape"
   ]
  },
  {
   "cell_type": "code",
   "execution_count": 21,
   "metadata": {},
   "outputs": [
    {
     "data": {
      "text/html": [
       "<div>\n",
       "<style scoped>\n",
       "    .dataframe tbody tr th:only-of-type {\n",
       "        vertical-align: middle;\n",
       "    }\n",
       "\n",
       "    .dataframe tbody tr th {\n",
       "        vertical-align: top;\n",
       "    }\n",
       "\n",
       "    .dataframe thead th {\n",
       "        text-align: right;\n",
       "    }\n",
       "</style>\n",
       "<table border=\"1\" class=\"dataframe\">\n",
       "  <thead>\n",
       "    <tr style=\"text-align: right;\">\n",
       "      <th></th>\n",
       "      <th>text</th>\n",
       "      <th>stars_y</th>\n",
       "    </tr>\n",
       "  </thead>\n",
       "  <tbody>\n",
       "    <tr>\n",
       "      <th>14421</th>\n",
       "      <td>I think it must be a great deal for meat eater...</td>\n",
       "      <td>3</td>\n",
       "    </tr>\n",
       "    <tr>\n",
       "      <th>1561</th>\n",
       "      <td>A beautiful, sunny day at The Beaches warrants...</td>\n",
       "      <td>4</td>\n",
       "    </tr>\n",
       "    <tr>\n",
       "      <th>4163</th>\n",
       "      <td>This is by far the best in its genre in the ci...</td>\n",
       "      <td>5</td>\n",
       "    </tr>\n",
       "    <tr>\n",
       "      <th>4623</th>\n",
       "      <td>I've been here about a handful of times and I'...</td>\n",
       "      <td>5</td>\n",
       "    </tr>\n",
       "    <tr>\n",
       "      <th>6184</th>\n",
       "      <td>Had dinner last night here and I have to say t...</td>\n",
       "      <td>2</td>\n",
       "    </tr>\n",
       "  </tbody>\n",
       "</table>\n",
       "</div>"
      ],
      "text/plain": [
       "                                                    text  stars_y\n",
       "14421  I think it must be a great deal for meat eater...        3\n",
       "1561   A beautiful, sunny day at The Beaches warrants...        4\n",
       "4163   This is by far the best in its genre in the ci...        5\n",
       "4623   I've been here about a handful of times and I'...        5\n",
       "6184   Had dinner last night here and I have to say t...        2"
      ]
     },
     "execution_count": 21,
     "metadata": {},
     "output_type": "execute_result"
    },
    {
     "data": {
      "image/png": "[encoded data removed]",
      "text/plain": [
       "<Figure size 432x288 with 1 Axes>"
      ]
     },
     "metadata": {
      "needs_background": "light"
     },
     "output_type": "display_data"
    }
   ],
   "source": [
    "train = train[['text', 'stars_y']]\n",
    "train['stars_y'].hist();train.head()"
   ]
  },
  {
   "cell_type": "code",
   "execution_count": 22,
   "metadata": {},
   "outputs": [
    {
     "data": {
      "text/html": [
       "<div>\n",
       "<style scoped>\n",
       "    .dataframe tbody tr th:only-of-type {\n",
       "        vertical-align: middle;\n",
       "    }\n",
       "\n",
       "    .dataframe tbody tr th {\n",
       "        vertical-align: top;\n",
       "    }\n",
       "\n",
       "    .dataframe thead th {\n",
       "        text-align: right;\n",
       "    }\n",
       "</style>\n",
       "<table border=\"1\" class=\"dataframe\">\n",
       "  <thead>\n",
       "    <tr style=\"text-align: right;\">\n",
       "      <th></th>\n",
       "      <th>text</th>\n",
       "      <th>stars_y_1</th>\n",
       "      <th>stars_y_2</th>\n",
       "      <th>stars_y_3</th>\n",
       "      <th>stars_y_4</th>\n",
       "      <th>stars_y_5</th>\n",
       "    </tr>\n",
       "  </thead>\n",
       "  <tbody>\n",
       "    <tr>\n",
       "      <th>14421</th>\n",
       "      <td>I think it must be a great deal for meat eater...</td>\n",
       "      <td>0</td>\n",
       "      <td>0</td>\n",
       "      <td>1</td>\n",
       "      <td>0</td>\n",
       "      <td>0</td>\n",
       "    </tr>\n",
       "    <tr>\n",
       "      <th>1561</th>\n",
       "      <td>A beautiful, sunny day at The Beaches warrants...</td>\n",
       "      <td>0</td>\n",
       "      <td>0</td>\n",
       "      <td>0</td>\n",
       "      <td>1</td>\n",
       "      <td>0</td>\n",
       "    </tr>\n",
       "    <tr>\n",
       "      <th>4163</th>\n",
       "      <td>This is by far the best in its genre in the ci...</td>\n",
       "      <td>0</td>\n",
       "      <td>0</td>\n",
       "      <td>0</td>\n",
       "      <td>0</td>\n",
       "      <td>1</td>\n",
       "    </tr>\n",
       "    <tr>\n",
       "      <th>4623</th>\n",
       "      <td>I've been here about a handful of times and I'...</td>\n",
       "      <td>0</td>\n",
       "      <td>0</td>\n",
       "      <td>0</td>\n",
       "      <td>0</td>\n",
       "      <td>1</td>\n",
       "    </tr>\n",
       "    <tr>\n",
       "      <th>6184</th>\n",
       "      <td>Had dinner last night here and I have to say t...</td>\n",
       "      <td>0</td>\n",
       "      <td>1</td>\n",
       "      <td>0</td>\n",
       "      <td>0</td>\n",
       "      <td>0</td>\n",
       "    </tr>\n",
       "  </tbody>\n",
       "</table>\n",
       "</div>"
      ],
      "text/plain": [
       "                                                    text  stars_y_1  \\\n",
       "14421  I think it must be a great deal for meat eater...          0   \n",
       "1561   A beautiful, sunny day at The Beaches warrants...          0   \n",
       "4163   This is by far the best in its genre in the ci...          0   \n",
       "4623   I've been here about a handful of times and I'...          0   \n",
       "6184   Had dinner last night here and I have to say t...          0   \n",
       "\n",
       "       stars_y_2  stars_y_3  stars_y_4  stars_y_5  \n",
       "14421          0          1          0          0  \n",
       "1561           0          0          1          0  \n",
       "4163           0          0          0          1  \n",
       "4623           0          0          0          1  \n",
       "6184           1          0          0          0  "
      ]
     },
     "execution_count": 22,
     "metadata": {},
     "output_type": "execute_result"
    }
   ],
   "source": [
    "train = pd.get_dummies(train, columns = ['stars_y'])\n",
    "train.head()"
   ]
  },
  {
   "cell_type": "code",
   "execution_count": 23,
   "metadata": {},
   "outputs": [
    {
     "data": {
      "text/plain": [
       "((14000, 6), (6433, 6))"
      ]
     },
     "execution_count": 23,
     "metadata": {},
     "output_type": "execute_result"
    }
   ],
   "source": [
    "#test = pd.read_csv('/home/adam/R/Yelp/dataset/model_test.csv', usecols=['text', 'stars'])\n",
    "test = test[['text', 'stars_y']]\n",
    "test = pd.get_dummies(test, columns = ['stars_y'])\n",
    "train.shape, test.shape"
   ]
  },
  {
   "cell_type": "code",
   "execution_count": 24,
   "metadata": {},
   "outputs": [],
   "source": [
    "# set frac = .33 to subsample in the initial trainings (to increase efficeny if needed)\n",
    "# train_samp = train.sample(frac = .33, random_state = 42)\n",
    "# test_samp = test.sample(frac = .33, random_state = 42)\n",
    "# train_samp.shape, test_samp.shape   "
   ]
  },
  {
   "cell_type": "code",
   "execution_count": 25,
   "metadata": {},
   "outputs": [],
   "source": [
    "# max_features is an upper bound on the number of words in the vocabulary\n",
    "max_features = 2000\n",
    "tfidf = TfidfVectorizer(max_features = max_features)"
   ]
  },
  {
   "cell_type": "code",
   "execution_count": 26,
   "metadata": {},
   "outputs": [],
   "source": [
    "class NBFeatures(BaseEstimator):\n",
    "    def __init__(self, alpha):\n",
    "        # Smoothing Parameter: always going to be one for my use\n",
    "        self.alpha = alpha\n",
    "        \n",
    "    def preprocess_x(self, x, r):\n",
    "        return x.multiply(r)\n",
    "    \n",
    "    # calculate probabilities\n",
    "    def pr(self, x, y_i, y):\n",
    "        p = x[y == y_i].sum(0)\n",
    "        return (p + self.alpha)/((y==y_i).sum()+self.alpha)\n",
    "    \n",
    "    # calculate the log ratio and represent as sparse matrix\n",
    "    # ie fit the nb model\n",
    "    def fit(self, x, y = None):\n",
    "        self._r = sparse.csr_matrix(np.log(self.pr(x, 1, y) /self.pr(x, 0, y)))\n",
    "        return self\n",
    "    \n",
    "    # apply the nb fit to original features x\n",
    "    def transform(self, x):\n",
    "        x_nb = self.preprocess_x(x, self._r)\n",
    "        return x_nb"
   ]
  },
  {
   "cell_type": "code",
   "execution_count": 27,
   "metadata": {},
   "outputs": [],
   "source": [
    "# Create pipeline using sklearn pipeline:\n",
    "    # I basically create my tfidf features which are fed to my NB model \n",
    "    # for probability calculations. Then those are fed as input to my \n",
    "    # logistic regression model.\n",
    "lr = LogisticRegression()\n",
    "nb = NBFeatures(1)\n",
    "p = Pipeline([\n",
    "    ('tfidf', tfidf),\n",
    "    ('nb', nb),\n",
    "    ('lr', lr)\n",
    "])"
   ]
  },
  {
   "cell_type": "code",
   "execution_count": 28,
   "metadata": {},
   "outputs": [
    {
     "name": "stdout",
     "output_type": "stream",
     "text": [
      "CV score for class stars_y_1 is 0.9262857594551219\n",
      "CV score for class stars_y_2 is 0.904285677592131\n",
      "CV score for class stars_y_3 is 0.8329285952356656\n",
      "CV score for class stars_y_4 is 0.7001431194079487\n",
      "CV score for class stars_y_5 is 0.7929288805621716\n"
     ]
    }
   ],
   "source": [
    "class_names = ['stars_y_1', 'stars_y_2', 'stars_y_3', 'stars_y_4', 'stars_y_5']\n",
    "scores = []\n",
    "preds = np.zeros((len(test), len(class_names)))\n",
    "for i, class_name in enumerate(class_names):\n",
    "    train_target = train[class_name]    \n",
    "    cv_score = np.mean(cross_val_score(estimator = p, X = train['text'].values, \n",
    "                                      y = train_target, cv = 3, scoring = 'accuracy'))\n",
    "    scores.append(cv_score)\n",
    "    print('CV score for class {} is {}'.format(class_name, cv_score))\n",
    "    p.fit(train['text'].values, train_target)\n",
    "    preds[:,i] = p.predict_proba(test['text'].values)[:,1]"
   ]
  },
  {
   "cell_type": "code",
   "execution_count": 29,
   "metadata": {},
   "outputs": [
    {
     "name": "stdout",
     "output_type": "stream",
     "text": [
      "              precision    recall  f1-score   support\n",
      "\n",
      "           0       0.69      0.69      0.69       684\n",
      "           1       0.45      0.14      0.22       576\n",
      "           2       0.51      0.35      0.41      1096\n",
      "           3       0.47      0.55      0.51      1974\n",
      "           4       0.64      0.76      0.69      2103\n",
      "\n",
      "    accuracy                           0.56      6433\n",
      "   macro avg       0.55      0.50      0.50      6433\n",
      "weighted avg       0.55      0.56      0.55      6433\n",
      "\n",
      "Wall time: 10 ms\n"
     ]
    }
   ],
   "source": [
    "%%time\n",
    "t = metrics.classification_report(np.argmax(test[class_names].values, axis = 1),np.argmax(preds, axis = 1))\n",
    "print(t)"
   ]
  },
  {
   "cell_type": "code",
   "execution_count": null,
   "metadata": {},
   "outputs": [],
   "source": []
  },
  {
   "cell_type": "code",
   "execution_count": null,
   "metadata": {},
   "outputs": [],
   "source": []
  },
  {
   "cell_type": "code",
   "execution_count": null,
   "metadata": {},
   "outputs": [],
   "source": []
  },
  {
   "cell_type": "code",
   "execution_count": null,
   "metadata": {},
   "outputs": [],
   "source": []
  },
  {
   "cell_type": "code",
   "execution_count": null,
   "metadata": {},
   "outputs": [],
   "source": []
  }
 ],
 "metadata": {
  "interpreter": {
   "hash": "8307cd9af0e97630f8d6fae8fa8cf075c5a8326acb952193157434f24c616b4e"
  },
  "kernelspec": {
   "display_name": "Python 3.8.5 64-bit",
   "name": "python3"
  },
  "language_info": {
   "codemirror_mode": {
    "name": "ipython",
    "version": 3
   },
   "file_extension": ".py",
   "mimetype": "text/x-python",
   "name": "python",
   "nbconvert_exporter": "python",
   "pygments_lexer": "ipython3",
   "version": "3.8.5"
  },
  "orig_nbformat": 4
 },
 "nbformat": 4,
 "nbformat_minor": 2
}
